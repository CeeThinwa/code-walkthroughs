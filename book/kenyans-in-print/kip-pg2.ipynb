{
 "cells": [
  {
   "cell_type": "markdown",
   "id": "dense-group",
   "metadata": {},
   "source": [
    "# Image block segmentation: Part II"
   ]
  },
  {
   "cell_type": "code",
   "execution_count": null,
   "id": "southern-rouge",
   "metadata": {},
   "outputs": [],
   "source": [
    "!pip install Pillow\n",
    "!pip install numpy\n",
    "!pip install pythonRLSA\n",
    "!pip install opencv-python-headless"
   ]
  },
  {
   "cell_type": "code",
   "execution_count": null,
   "id": "racial-theorem",
   "metadata": {},
   "outputs": [],
   "source": [
    "from PIL import Image # Pillow package\n",
    "import cv2 # Open CV package\n",
    "import numpy as np # Numpy package\n",
    "import math\n",
    "from pythonRLSA import rlsa"
   ]
  },
  {
   "cell_type": "code",
   "execution_count": null,
   "id": "comprehensive-municipality",
   "metadata": {},
   "outputs": [],
   "source": [
    "try:\n",
    "    sample_image_path = \"./kip-images/17_12_2021_Nation_MyNetWork_pg9.jpg\"\n",
    "    img = Image.open(sample_image_path)\n",
    "except:\n",
    "    sample_image_path = \"/home/jovyan/book/kenyans-in-print/kip-images/17_12_2021_Nation_MyNetWork_pg9.jpg\"\n",
    "    img = Image.open(sample_image_path)\n",
    "\n",
    "\n",
    "width, height = img.size\n",
    "display(img.resize(\n",
    "    (int(width*0.2),int(height*0.2))\n",
    "    ))"
   ]
  },
  {
   "cell_type": "code",
   "execution_count": null,
   "id": "greater-irish",
   "metadata": {},
   "outputs": [],
   "source": []
  },
  {
   "cell_type": "code",
   "execution_count": null,
   "id": "united-reason",
   "metadata": {},
   "outputs": [],
   "source": []
  }
 ],
 "metadata": {
  "kernelspec": {
   "display_name": "Python 3",
   "language": "python",
   "name": "python3"
  },
  "language_info": {
   "codemirror_mode": {
    "name": "ipython",
    "version": 3
   },
   "file_extension": ".py",
   "mimetype": "text/x-python",
   "name": "python",
   "nbconvert_exporter": "python",
   "pygments_lexer": "ipython3",
   "version": "3.9.0"
  }
 },
 "nbformat": 4,
 "nbformat_minor": 5
}
